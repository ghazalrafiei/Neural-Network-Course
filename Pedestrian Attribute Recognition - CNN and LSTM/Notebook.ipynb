{
  "nbformat": 4,
  "nbformat_minor": 0,
  "metadata": {
    "colab": {
      "name": "Final Pr4-1.ipynb",
      "provenance": [],
      "collapsed_sections": []
    },
    "kernelspec": {
      "display_name": "Python 3",
      "name": "python3"
    },
    "widgets": {
      "application/vnd.jupyter.widget-state+json": {
        "6268b3228c064dbd80ba5e4f0844aeed": {
          "model_module": "@jupyter-widgets/controls",
          "model_name": "HBoxModel",
          "state": {
            "_view_name": "HBoxView",
            "_dom_classes": [],
            "_model_name": "HBoxModel",
            "_view_module": "@jupyter-widgets/controls",
            "_model_module_version": "1.5.0",
            "_view_count": null,
            "_view_module_version": "1.5.0",
            "box_style": "",
            "layout": "IPY_MODEL_1f9cdbe20614478b896d354fa9dadea0",
            "_model_module": "@jupyter-widgets/controls",
            "children": [
              "IPY_MODEL_a9052ff4f34e4fe1b8b6842263c685ec",
              "IPY_MODEL_b466cfcbe2944e15a82462140caeabf9"
            ]
          }
        },
        "1f9cdbe20614478b896d354fa9dadea0": {
          "model_module": "@jupyter-widgets/base",
          "model_name": "LayoutModel",
          "state": {
            "_view_name": "LayoutView",
            "grid_template_rows": null,
            "right": null,
            "justify_content": null,
            "_view_module": "@jupyter-widgets/base",
            "overflow": null,
            "_model_module_version": "1.2.0",
            "_view_count": null,
            "flex_flow": null,
            "width": null,
            "min_width": null,
            "border": null,
            "align_items": null,
            "bottom": null,
            "_model_module": "@jupyter-widgets/base",
            "top": null,
            "grid_column": null,
            "overflow_y": null,
            "overflow_x": null,
            "grid_auto_flow": null,
            "grid_area": null,
            "grid_template_columns": null,
            "flex": null,
            "_model_name": "LayoutModel",
            "justify_items": null,
            "grid_row": null,
            "max_height": null,
            "align_content": null,
            "visibility": null,
            "align_self": null,
            "height": null,
            "min_height": null,
            "padding": null,
            "grid_auto_rows": null,
            "grid_gap": null,
            "max_width": null,
            "order": null,
            "_view_module_version": "1.2.0",
            "grid_template_areas": null,
            "object_position": null,
            "object_fit": null,
            "grid_auto_columns": null,
            "margin": null,
            "display": null,
            "left": null
          }
        },
        "a9052ff4f34e4fe1b8b6842263c685ec": {
          "model_module": "@jupyter-widgets/controls",
          "model_name": "FloatProgressModel",
          "state": {
            "_view_name": "ProgressView",
            "style": "IPY_MODEL_1b5bc89cb92f466890adb65e9583bdb0",
            "_dom_classes": [],
            "description": "100%",
            "_model_name": "FloatProgressModel",
            "bar_style": "success",
            "max": 3000,
            "_view_module": "@jupyter-widgets/controls",
            "_model_module_version": "1.5.0",
            "value": 3000,
            "_view_count": null,
            "_view_module_version": "1.5.0",
            "orientation": "horizontal",
            "min": 0,
            "description_tooltip": null,
            "_model_module": "@jupyter-widgets/controls",
            "layout": "IPY_MODEL_5a6ac350ef5e490294a2c5f6800bc244"
          }
        },
        "b466cfcbe2944e15a82462140caeabf9": {
          "model_module": "@jupyter-widgets/controls",
          "model_name": "HTMLModel",
          "state": {
            "_view_name": "HTMLView",
            "style": "IPY_MODEL_3c838537044046c49c39cc770d6924e3",
            "_dom_classes": [],
            "description": "",
            "_model_name": "HTMLModel",
            "placeholder": "​",
            "_view_module": "@jupyter-widgets/controls",
            "_model_module_version": "1.5.0",
            "value": " 3000/3000 [53:09&lt;00:00,  1.06s/it]",
            "_view_count": null,
            "_view_module_version": "1.5.0",
            "description_tooltip": null,
            "_model_module": "@jupyter-widgets/controls",
            "layout": "IPY_MODEL_5d2cd47b4b8c467bb34f376e9c356fcc"
          }
        },
        "1b5bc89cb92f466890adb65e9583bdb0": {
          "model_module": "@jupyter-widgets/controls",
          "model_name": "ProgressStyleModel",
          "state": {
            "_view_name": "StyleView",
            "_model_name": "ProgressStyleModel",
            "description_width": "initial",
            "_view_module": "@jupyter-widgets/base",
            "_model_module_version": "1.5.0",
            "_view_count": null,
            "_view_module_version": "1.2.0",
            "bar_color": null,
            "_model_module": "@jupyter-widgets/controls"
          }
        },
        "5a6ac350ef5e490294a2c5f6800bc244": {
          "model_module": "@jupyter-widgets/base",
          "model_name": "LayoutModel",
          "state": {
            "_view_name": "LayoutView",
            "grid_template_rows": null,
            "right": null,
            "justify_content": null,
            "_view_module": "@jupyter-widgets/base",
            "overflow": null,
            "_model_module_version": "1.2.0",
            "_view_count": null,
            "flex_flow": null,
            "width": null,
            "min_width": null,
            "border": null,
            "align_items": null,
            "bottom": null,
            "_model_module": "@jupyter-widgets/base",
            "top": null,
            "grid_column": null,
            "overflow_y": null,
            "overflow_x": null,
            "grid_auto_flow": null,
            "grid_area": null,
            "grid_template_columns": null,
            "flex": null,
            "_model_name": "LayoutModel",
            "justify_items": null,
            "grid_row": null,
            "max_height": null,
            "align_content": null,
            "visibility": null,
            "align_self": null,
            "height": null,
            "min_height": null,
            "padding": null,
            "grid_auto_rows": null,
            "grid_gap": null,
            "max_width": null,
            "order": null,
            "_view_module_version": "1.2.0",
            "grid_template_areas": null,
            "object_position": null,
            "object_fit": null,
            "grid_auto_columns": null,
            "margin": null,
            "display": null,
            "left": null
          }
        },
        "3c838537044046c49c39cc770d6924e3": {
          "model_module": "@jupyter-widgets/controls",
          "model_name": "DescriptionStyleModel",
          "state": {
            "_view_name": "StyleView",
            "_model_name": "DescriptionStyleModel",
            "description_width": "",
            "_view_module": "@jupyter-widgets/base",
            "_model_module_version": "1.5.0",
            "_view_count": null,
            "_view_module_version": "1.2.0",
            "_model_module": "@jupyter-widgets/controls"
          }
        },
        "5d2cd47b4b8c467bb34f376e9c356fcc": {
          "model_module": "@jupyter-widgets/base",
          "model_name": "LayoutModel",
          "state": {
            "_view_name": "LayoutView",
            "grid_template_rows": null,
            "right": null,
            "justify_content": null,
            "_view_module": "@jupyter-widgets/base",
            "overflow": null,
            "_model_module_version": "1.2.0",
            "_view_count": null,
            "flex_flow": null,
            "width": null,
            "min_width": null,
            "border": null,
            "align_items": null,
            "bottom": null,
            "_model_module": "@jupyter-widgets/base",
            "top": null,
            "grid_column": null,
            "overflow_y": null,
            "overflow_x": null,
            "grid_auto_flow": null,
            "grid_area": null,
            "grid_template_columns": null,
            "flex": null,
            "_model_name": "LayoutModel",
            "justify_items": null,
            "grid_row": null,
            "max_height": null,
            "align_content": null,
            "visibility": null,
            "align_self": null,
            "height": null,
            "min_height": null,
            "padding": null,
            "grid_auto_rows": null,
            "grid_gap": null,
            "max_width": null,
            "order": null,
            "_view_module_version": "1.2.0",
            "grid_template_areas": null,
            "object_position": null,
            "object_fit": null,
            "grid_auto_columns": null,
            "margin": null,
            "display": null,
            "left": null
          }
        }
      }
    }
  },
  "cells": [
    {
      "cell_type": "markdown",
      "metadata": {
        "id": "V6YC0t0a2hgs"
      },
      "source": [
        "# CNN-CAtt-ConvLSTM"
      ]
    },
    {
      "cell_type": "code",
      "metadata": {
        "id": "GvsS9l0A2gbo"
      },
      "source": [
        "import pandas as pd\n",
        "import numpy as np\n",
        "import glob\n",
        "import cv2\n",
        "import os\n",
        "import scipy.io\n",
        "import tensorflow as tf"
      ],
      "execution_count": null,
      "outputs": []
    },
    {
      "cell_type": "markdown",
      "metadata": {
        "id": "s5xrcAvG3CVE"
      },
      "source": [
        "the model is composed of a CNN for attribute feature extraction, a CAtt mechanism for re-adjusting the correlated feature responses of pedestrian attributes, and ConvLSTM for mining correlation and spatial information between different attributes. "
      ]
    },
    {
      "cell_type": "code",
      "metadata": {
        "id": "7DrdGBVJDZmB",
        "colab": {
          "base_uri": "https://localhost:8080/"
        },
        "outputId": "06b8abb6-e19a-4d44-c15e-f6892b0c4fa4"
      },
      "source": [
        "from google.colab import drive\r\n",
        "drive.mount('/gdrive')"
      ],
      "execution_count": null,
      "outputs": [
        {
          "output_type": "stream",
          "text": [
            "Mounted at /gdrive\n"
          ],
          "name": "stdout"
        }
      ]
    },
    {
      "cell_type": "code",
      "metadata": {
        "id": "0DlMPMr87R99"
      },
      "source": [
        "#!unzip -P \"casia_cripac_isee_5610\" \"/gdrive/My Drive/RAP_dataset.zip\" -d \"/gdrive/My Drive/RAP_dataset\"\r\n",
        "#!unzip -P \"casia_cripac_isee_5610\" \"/gdrive/My Drive/RAP_annotation.zip\" -d \"/gdrive/My Drive\""
      ],
      "execution_count": null,
      "outputs": []
    },
    {
      "cell_type": "code",
      "metadata": {
        "id": "VXI3mCddzUgi"
      },
      "source": [
        "# !ls \"/gdrive/My Drive/RAP_dataset\""
      ],
      "execution_count": null,
      "outputs": []
    },
    {
      "cell_type": "markdown",
      "metadata": {
        "id": "WTceHWLOp91z"
      },
      "source": [
        "# mat tp csv"
      ]
    },
    {
      "cell_type": "code",
      "metadata": {
        "id": "cxZK0k9akwgi"
      },
      "source": [
        "#!ls \"/gdrive/My Drive/RAP_annotation\""
      ],
      "execution_count": null,
      "outputs": []
    },
    {
      "cell_type": "code",
      "metadata": {
        "id": "4YL2Ce-SordT"
      },
      "source": [
        "mat = scipy.io.loadmat('/gdrive/MyDrive/RAP_annotation/RAP_annotation.mat')"
      ],
      "execution_count": null,
      "outputs": []
    },
    {
      "cell_type": "code",
      "metadata": {
        "id": "x53wcwbJo3Rn"
      },
      "source": [
        "# mat['RAP_annotation']"
      ],
      "execution_count": null,
      "outputs": []
    },
    {
      "cell_type": "code",
      "metadata": {
        "id": "5OZ7Hyabo5Fa",
        "colab": {
          "base_uri": "https://localhost:8080/"
        },
        "outputId": "40f193f8-95f8-4c30-9921-9a947593d011"
      },
      "source": [
        "mat['__globals__']"
      ],
      "execution_count": null,
      "outputs": [
        {
          "output_type": "execute_result",
          "data": {
            "text/plain": [
              "[]"
            ]
          },
          "metadata": {
            "tags": []
          },
          "execution_count": 7
        }
      ]
    },
    {
      "cell_type": "code",
      "metadata": {
        "id": "G0USm9gSo6qN",
        "colab": {
          "base_uri": "https://localhost:8080/"
        },
        "outputId": "dc4e5d3a-7805-4c2d-f84d-23be2da875c9"
      },
      "source": [
        "mat['__header__']"
      ],
      "execution_count": null,
      "outputs": [
        {
          "output_type": "execute_result",
          "data": {
            "text/plain": [
              "b'MATLAB 5.0 MAT-file, Platform: PCWIN64, Created on: Tue May 22 23:42:10 2018'"
            ]
          },
          "metadata": {
            "tags": []
          },
          "execution_count": 8
        }
      ]
    },
    {
      "cell_type": "code",
      "metadata": {
        "id": "NJL_4tr7o8UT",
        "colab": {
          "base_uri": "https://localhost:8080/",
          "height": 35
        },
        "outputId": "01460458-3b43-43b2-d5a1-82a91a561756"
      },
      "source": [
        "mat['__version__']"
      ],
      "execution_count": null,
      "outputs": [
        {
          "output_type": "execute_result",
          "data": {
            "application/vnd.google.colaboratory.intrinsic+json": {
              "type": "string"
            },
            "text/plain": [
              "'1.0'"
            ]
          },
          "metadata": {
            "tags": []
          },
          "execution_count": 9
        }
      ]
    },
    {
      "cell_type": "code",
      "metadata": {
        "id": "rq35dKOWpADP"
      },
      "source": [
        "x = mat['RAP_annotation'].ravel()"
      ],
      "execution_count": null,
      "outputs": []
    },
    {
      "cell_type": "code",
      "metadata": {
        "id": "rkBnphHVpB8v"
      },
      "source": [
        "x = pd.DataFrame(x)"
      ],
      "execution_count": null,
      "outputs": []
    },
    {
      "cell_type": "code",
      "metadata": {
        "id": "WqUn-6PEpDjf",
        "colab": {
          "base_uri": "https://localhost:8080/",
          "height": 111
        },
        "outputId": "afd4fbae-e897-408d-808b-47fea598b40e"
      },
      "source": [
        "x"
      ],
      "execution_count": null,
      "outputs": [
        {
          "output_type": "execute_result",
          "data": {
            "text/html": [
              "<div>\n",
              "<style scoped>\n",
              "    .dataframe tbody tr th:only-of-type {\n",
              "        vertical-align: middle;\n",
              "    }\n",
              "\n",
              "    .dataframe tbody tr th {\n",
              "        vertical-align: top;\n",
              "    }\n",
              "\n",
              "    .dataframe thead th {\n",
              "        text-align: right;\n",
              "    }\n",
              "</style>\n",
              "<table border=\"1\" class=\"dataframe\">\n",
              "  <thead>\n",
              "    <tr style=\"text-align: right;\">\n",
              "      <th></th>\n",
              "      <th>partion</th>\n",
              "      <th>label</th>\n",
              "      <th>attribute_chinese</th>\n",
              "      <th>attribute_eng</th>\n",
              "      <th>position</th>\n",
              "      <th>imagesname</th>\n",
              "      <th>attribute_exp</th>\n",
              "    </tr>\n",
              "  </thead>\n",
              "  <tbody>\n",
              "    <tr>\n",
              "      <th>0</th>\n",
              "      <td>[[[[(array([[ 5211, 17913, 25729, ...,  1982, ...</td>\n",
              "      <td>[[1, 0, 0, 1, 0, 1, 0, 0, 1, 0, 0, 1, 0, 0, 0,...</td>\n",
              "      <td>[[[性别]], [[年龄16]], [[年龄30]], [[年龄45]], [[体型微胖]...</td>\n",
              "      <td>[[[Female]], [[AgeLess16]], [[Age17-30]], [[Ag...</td>\n",
              "      <td>[[693, 16, 124, 254, 731, 21, 54, 49, 708, 56,...</td>\n",
              "      <td>[[[CAM31_2014-03-18_20140318125002-20140318125...</td>\n",
              "      <td>[[[Female]], [[AgeLess16]], [[Age17-30]], [[Ag...</td>\n",
              "    </tr>\n",
              "  </tbody>\n",
              "</table>\n",
              "</div>"
            ],
            "text/plain": [
              "                                             partion  ...                                      attribute_exp\n",
              "0  [[[[(array([[ 5211, 17913, 25729, ...,  1982, ...  ...  [[[Female]], [[AgeLess16]], [[Age17-30]], [[Ag...\n",
              "\n",
              "[1 rows x 7 columns]"
            ]
          },
          "metadata": {
            "tags": []
          },
          "execution_count": 13
        }
      ]
    },
    {
      "cell_type": "markdown",
      "metadata": {
        "id": "xGV5DFBypJGw"
      },
      "source": [
        "RAP_annotation.partion is the 5 random partion for training and test, which is the same as the setting in our paper."
      ]
    },
    {
      "cell_type": "code",
      "metadata": {
        "id": "AsdP2YmbpLBG",
        "colab": {
          "base_uri": "https://localhost:8080/"
        },
        "outputId": "60c830a0-0445-4f16-9217-26ce1a32c0d8"
      },
      "source": [
        "x.columns"
      ],
      "execution_count": null,
      "outputs": [
        {
          "output_type": "execute_result",
          "data": {
            "text/plain": [
              "Index(['partion', 'label', 'attribute_chinese', 'attribute_eng', 'position',\n",
              "       'imagesname', 'attribute_exp'],\n",
              "      dtype='object')"
            ]
          },
          "metadata": {
            "tags": []
          },
          "execution_count": 14
        }
      ]
    },
    {
      "cell_type": "code",
      "metadata": {
        "id": "t6GnMDyOpMrh"
      },
      "source": [
        "# x['partion'][0][0][0][0][0][0]"
      ],
      "execution_count": null,
      "outputs": []
    },
    {
      "cell_type": "code",
      "metadata": {
        "id": "qqzuQEuppOFn",
        "colab": {
          "base_uri": "https://localhost:8080/"
        },
        "outputId": "371d01d4-070b-42ca-9618-8ca7b3ed4b4f"
      },
      "source": [
        "len(x['label'][0])"
      ],
      "execution_count": null,
      "outputs": [
        {
          "output_type": "execute_result",
          "data": {
            "text/plain": [
              "41585"
            ]
          },
          "metadata": {
            "tags": []
          },
          "execution_count": 15
        }
      ]
    },
    {
      "cell_type": "code",
      "metadata": {
        "id": "jU6uZ4KkpPs5",
        "colab": {
          "base_uri": "https://localhost:8080/"
        },
        "outputId": "f7bb9a06-d0a9-4a96-ab2d-3c509da85194"
      },
      "source": [
        "len(x['attribute_chinese'][0][0])"
      ],
      "execution_count": null,
      "outputs": [
        {
          "output_type": "execute_result",
          "data": {
            "text/plain": [
              "1"
            ]
          },
          "metadata": {
            "tags": []
          },
          "execution_count": 16
        }
      ]
    },
    {
      "cell_type": "code",
      "metadata": {
        "id": "BBpmBmN6pRf-",
        "colab": {
          "base_uri": "https://localhost:8080/"
        },
        "outputId": "e899f1fe-b39f-4ad6-f7dd-5edc3a437368"
      },
      "source": [
        "len(x['imagesname'][0])"
      ],
      "execution_count": null,
      "outputs": [
        {
          "output_type": "execute_result",
          "data": {
            "text/plain": [
              "41585"
            ]
          },
          "metadata": {
            "tags": []
          },
          "execution_count": 17
        }
      ]
    },
    {
      "cell_type": "code",
      "metadata": {
        "id": "2P6Il7ZipTTH",
        "colab": {
          "base_uri": "https://localhost:8080/"
        },
        "outputId": "8868a58b-1390-4847-b7f2-df713099c724"
      },
      "source": [
        "for i in x:\r\n",
        "  print(x[i],'\\n')"
      ],
      "execution_count": null,
      "outputs": [
        {
          "output_type": "stream",
          "text": [
            "0    [[[[(array([[ 5211, 17913, 25729, ...,  1982, ...\n",
            "Name: partion, dtype: object \n",
            "\n",
            "0    [[1, 0, 0, 1, 0, 1, 0, 0, 1, 0, 0, 1, 0, 0, 0,...\n",
            "Name: label, dtype: object \n",
            "\n",
            "0    [[[性别]], [[年龄16]], [[年龄30]], [[年龄45]], [[体型微胖]...\n",
            "Name: attribute_chinese, dtype: object \n",
            "\n",
            "0    [[[Female]], [[AgeLess16]], [[Age17-30]], [[Ag...\n",
            "Name: attribute_eng, dtype: object \n",
            "\n",
            "0    [[693, 16, 124, 254, 731, 21, 54, 49, 708, 56,...\n",
            "Name: position, dtype: object \n",
            "\n",
            "0    [[[CAM31_2014-03-18_20140318125002-20140318125...\n",
            "Name: imagesname, dtype: object \n",
            "\n",
            "0    [[[Female]], [[AgeLess16]], [[Age17-30]], [[Ag...\n",
            "Name: attribute_exp, dtype: object \n",
            "\n"
          ],
          "name": "stdout"
        }
      ]
    },
    {
      "cell_type": "code",
      "metadata": {
        "id": "8gZXTjDypV1B"
      },
      "source": [
        "label = x['label'][0]\r\n",
        "attribute_eng = x['attribute_eng'][0]\r\n",
        "imagesname = x['imagesname'][0]\r\n",
        "position = x['position'][0]"
      ],
      "execution_count": null,
      "outputs": []
    },
    {
      "cell_type": "code",
      "metadata": {
        "id": "ZNBjxc9_pXqh",
        "colab": {
          "base_uri": "https://localhost:8080/"
        },
        "outputId": "ba9041b5-3c68-44ce-c167-64e844dbabbd"
      },
      "source": [
        "len(label)"
      ],
      "execution_count": null,
      "outputs": [
        {
          "output_type": "execute_result",
          "data": {
            "text/plain": [
              "41585"
            ]
          },
          "metadata": {
            "tags": []
          },
          "execution_count": 20
        }
      ]
    },
    {
      "cell_type": "code",
      "metadata": {
        "id": "Sdegq4pHpZhY",
        "colab": {
          "base_uri": "https://localhost:8080/"
        },
        "outputId": "d8ab7b33-1e80-4863-a643-b88fbd72b32a"
      },
      "source": [
        "len(attribute_eng)"
      ],
      "execution_count": null,
      "outputs": [
        {
          "output_type": "execute_result",
          "data": {
            "text/plain": [
              "92"
            ]
          },
          "metadata": {
            "tags": []
          },
          "execution_count": 21
        }
      ]
    },
    {
      "cell_type": "code",
      "metadata": {
        "id": "jZvq1GjHpbFI",
        "colab": {
          "base_uri": "https://localhost:8080/",
          "height": 35
        },
        "outputId": "a9504e64-e38f-4e7e-94ea-7bdfc84ea629"
      },
      "source": [
        "attribute_eng[0][0][0]"
      ],
      "execution_count": null,
      "outputs": [
        {
          "output_type": "execute_result",
          "data": {
            "application/vnd.google.colaboratory.intrinsic+json": {
              "type": "string"
            },
            "text/plain": [
              "'Female'"
            ]
          },
          "metadata": {
            "tags": []
          },
          "execution_count": 22
        }
      ]
    },
    {
      "cell_type": "code",
      "metadata": {
        "id": "0vGDPS6eaIb-"
      },
      "source": [
        "attributes = []\n",
        "for i in attribute_eng:\n",
        "   attributes.append(i[0][0])"
      ],
      "execution_count": null,
      "outputs": []
    },
    {
      "cell_type": "code",
      "metadata": {
        "id": "HG3f_4vJpkV6",
        "colab": {
          "base_uri": "https://localhost:8080/"
        },
        "outputId": "245da8d4-b6e9-4ca7-e966-1d08e86255fb"
      },
      "source": [
        "len(imagesname)"
      ],
      "execution_count": null,
      "outputs": [
        {
          "output_type": "execute_result",
          "data": {
            "text/plain": [
              "41585"
            ]
          },
          "metadata": {
            "tags": []
          },
          "execution_count": 24
        }
      ]
    },
    {
      "cell_type": "code",
      "metadata": {
        "id": "nmy8daKPpmO-"
      },
      "source": [
        "imagesname = imagesname.flatten()"
      ],
      "execution_count": null,
      "outputs": []
    },
    {
      "cell_type": "code",
      "metadata": {
        "id": "dzPuFumkprpa",
        "colab": {
          "base_uri": "https://localhost:8080/"
        },
        "outputId": "35256f07-0139-4353-af47-cc8ffb295ff2"
      },
      "source": [
        "len(imagesname)"
      ],
      "execution_count": null,
      "outputs": [
        {
          "output_type": "execute_result",
          "data": {
            "text/plain": [
              "41585"
            ]
          },
          "metadata": {
            "tags": []
          },
          "execution_count": 26
        }
      ]
    },
    {
      "cell_type": "code",
      "metadata": {
        "id": "SP24AwoJptWk"
      },
      "source": [
        "imagesname[0]\r\n",
        "names = []\r\n",
        "for i in imagesname:\r\n",
        "  names.append(i[0])"
      ],
      "execution_count": null,
      "outputs": []
    },
    {
      "cell_type": "code",
      "metadata": {
        "id": "Gs67uBrfpvHe",
        "colab": {
          "base_uri": "https://localhost:8080/"
        },
        "outputId": "f0d7d19a-4332-4ea9-ddfc-2bf97d4f5e14"
      },
      "source": [
        "len(names)"
      ],
      "execution_count": null,
      "outputs": [
        {
          "output_type": "execute_result",
          "data": {
            "text/plain": [
              "41585"
            ]
          },
          "metadata": {
            "tags": []
          },
          "execution_count": 28
        }
      ]
    },
    {
      "cell_type": "code",
      "metadata": {
        "id": "Tm0w8wpspxAF",
        "colab": {
          "base_uri": "https://localhost:8080/"
        },
        "outputId": "ddd60777-1038-4122-8200-96afaf6287cb"
      },
      "source": [
        "type(imagesname)"
      ],
      "execution_count": null,
      "outputs": [
        {
          "output_type": "execute_result",
          "data": {
            "text/plain": [
              "numpy.ndarray"
            ]
          },
          "metadata": {
            "tags": []
          },
          "execution_count": 29
        }
      ]
    },
    {
      "cell_type": "code",
      "metadata": {
        "id": "14_d82-SvWqN",
        "colab": {
          "base_uri": "https://localhost:8080/"
        },
        "outputId": "1a080c7a-3d39-45c8-f832-74cddd548b98"
      },
      "source": [
        "label"
      ],
      "execution_count": null,
      "outputs": [
        {
          "output_type": "execute_result",
          "data": {
            "text/plain": [
              "array([[1, 0, 0, ..., 0, 0, 0],\n",
              "       [0, 0, 0, ..., 0, 0, 0],\n",
              "       [1, 0, 0, ..., 0, 0, 0],\n",
              "       ...,\n",
              "       [1, 0, 1, ..., 0, 0, 0],\n",
              "       [0, 1, 0, ..., 0, 0, 0],\n",
              "       [0, 1, 0, ..., 0, 0, 0]], dtype=int32)"
            ]
          },
          "metadata": {
            "tags": []
          },
          "execution_count": 30
        }
      ]
    },
    {
      "cell_type": "code",
      "metadata": {
        "id": "Pq3ekUaLvaQb",
        "colab": {
          "base_uri": "https://localhost:8080/"
        },
        "outputId": "e4a9eb01-af77-492c-b7b7-8ce3f6480198"
      },
      "source": [
        "label.shape"
      ],
      "execution_count": null,
      "outputs": [
        {
          "output_type": "execute_result",
          "data": {
            "text/plain": [
              "(41585, 92)"
            ]
          },
          "metadata": {
            "tags": []
          },
          "execution_count": 31
        }
      ]
    },
    {
      "cell_type": "code",
      "metadata": {
        "id": "UyG5ttkcXTLJ",
        "colab": {
          "base_uri": "https://localhost:8080/"
        },
        "outputId": "198fb6de-027d-4690-943a-ad46c83e41cf"
      },
      "source": [
        "len(position)"
      ],
      "execution_count": null,
      "outputs": [
        {
          "output_type": "execute_result",
          "data": {
            "text/plain": [
              "41585"
            ]
          },
          "metadata": {
            "tags": []
          },
          "execution_count": 32
        }
      ]
    },
    {
      "cell_type": "code",
      "metadata": {
        "id": "KrgOdF2fKBNw",
        "colab": {
          "base_uri": "https://localhost:8080/"
        },
        "outputId": "c5275ac0-1e0b-40f0-eadd-e6c89d3377cd"
      },
      "source": [
        "df = pd.DataFrame(label, columns = attributes)\r\n",
        "print(df)"
      ],
      "execution_count": null,
      "outputs": [
        {
          "output_type": "stream",
          "text": [
            "       Female  AgeLess16  Age17-30  ...  shoes-Yellow  shoes-Brown  shoes-Mixture\n",
            "0           1          0         0  ...             0            0              0\n",
            "1           0          0         0  ...             0            0              0\n",
            "2           1          0         0  ...             0            0              0\n",
            "3           0          0         1  ...             0            0              0\n",
            "4           0          0         0  ...             0            0              0\n",
            "...       ...        ...       ...  ...           ...          ...            ...\n",
            "41580       0          0         1  ...             0            0              0\n",
            "41581       1          1         0  ...             1            0              0\n",
            "41582       1          0         1  ...             0            0              0\n",
            "41583       0          1         0  ...             0            0              0\n",
            "41584       0          1         0  ...             0            0              0\n",
            "\n",
            "[41585 rows x 92 columns]\n"
          ],
          "name": "stdout"
        }
      ]
    },
    {
      "cell_type": "code",
      "metadata": {
        "id": "TONg1swgKdR4"
      },
      "source": [
        "df.insert(0,\"ImageName\",names)"
      ],
      "execution_count": null,
      "outputs": []
    },
    {
      "cell_type": "code",
      "metadata": {
        "id": "cu7hlus7K_Kc",
        "colab": {
          "base_uri": "https://localhost:8080/",
          "height": 430
        },
        "outputId": "6e12a47e-8465-439d-c8d2-e1ec301e5ff8"
      },
      "source": [
        "df.head()"
      ],
      "execution_count": null,
      "outputs": [
        {
          "output_type": "execute_result",
          "data": {
            "text/html": [
              "<div>\n",
              "<style scoped>\n",
              "    .dataframe tbody tr th:only-of-type {\n",
              "        vertical-align: middle;\n",
              "    }\n",
              "\n",
              "    .dataframe tbody tr th {\n",
              "        vertical-align: top;\n",
              "    }\n",
              "\n",
              "    .dataframe thead th {\n",
              "        text-align: right;\n",
              "    }\n",
              "</style>\n",
              "<table border=\"1\" class=\"dataframe\">\n",
              "  <thead>\n",
              "    <tr style=\"text-align: right;\">\n",
              "      <th></th>\n",
              "      <th>ImageName</th>\n",
              "      <th>Female</th>\n",
              "      <th>AgeLess16</th>\n",
              "      <th>Age17-30</th>\n",
              "      <th>Age31-45</th>\n",
              "      <th>BodyFat</th>\n",
              "      <th>BodyNormal</th>\n",
              "      <th>BodyThin</th>\n",
              "      <th>Customer</th>\n",
              "      <th>Clerk</th>\n",
              "      <th>hs-BaldHead</th>\n",
              "      <th>hs-LongHair</th>\n",
              "      <th>hs-BlackHair</th>\n",
              "      <th>hs-Hat</th>\n",
              "      <th>hs-Glasses</th>\n",
              "      <th>hs-Muffler</th>\n",
              "      <th>ub-Shirt</th>\n",
              "      <th>ub-Sweater</th>\n",
              "      <th>ub-Vest</th>\n",
              "      <th>ub-TShirt</th>\n",
              "      <th>ub-Cotton</th>\n",
              "      <th>ub-Jacket</th>\n",
              "      <th>ub-SuitUp</th>\n",
              "      <th>ub-Tight</th>\n",
              "      <th>ub-ShortSleeve</th>\n",
              "      <th>lb-LongTrousers</th>\n",
              "      <th>lb-Skirt</th>\n",
              "      <th>lb-ShortSkirt</th>\n",
              "      <th>lb-Dress</th>\n",
              "      <th>lb-Jeans</th>\n",
              "      <th>lb-TightTrousers</th>\n",
              "      <th>shoes-Leather</th>\n",
              "      <th>shoes-Sport</th>\n",
              "      <th>shoes-Boots</th>\n",
              "      <th>shoes-Cloth</th>\n",
              "      <th>shoes-Casual</th>\n",
              "      <th>attach-Backpack</th>\n",
              "      <th>attach-SingleShoulderBag</th>\n",
              "      <th>attach-HandBag</th>\n",
              "      <th>attach-Box</th>\n",
              "      <th>...</th>\n",
              "      <th>faceBack</th>\n",
              "      <th>faceLeft</th>\n",
              "      <th>faceRight</th>\n",
              "      <th>occlusionLeft</th>\n",
              "      <th>occlusionRight</th>\n",
              "      <th>occlusionUp</th>\n",
              "      <th>occlusionDown</th>\n",
              "      <th>occlusion-Environment</th>\n",
              "      <th>occlusion-Attachment</th>\n",
              "      <th>occlusion-Person</th>\n",
              "      <th>occlusion-Other</th>\n",
              "      <th>up-Black</th>\n",
              "      <th>up-White</th>\n",
              "      <th>up-Gray</th>\n",
              "      <th>up-Red</th>\n",
              "      <th>up-Green</th>\n",
              "      <th>up-Blue</th>\n",
              "      <th>up-Yellow</th>\n",
              "      <th>up-Brown</th>\n",
              "      <th>up-Purple</th>\n",
              "      <th>up-Pink</th>\n",
              "      <th>up-Orange</th>\n",
              "      <th>up-Mixture</th>\n",
              "      <th>low-Black</th>\n",
              "      <th>low-White</th>\n",
              "      <th>low-Gray</th>\n",
              "      <th>low-Red</th>\n",
              "      <th>low-Green</th>\n",
              "      <th>low-Blue</th>\n",
              "      <th>low-Yellow</th>\n",
              "      <th>low-Mixture</th>\n",
              "      <th>shoes-Black</th>\n",
              "      <th>shoes-White</th>\n",
              "      <th>shoes-Gray</th>\n",
              "      <th>shoes-Red</th>\n",
              "      <th>shoes-Green</th>\n",
              "      <th>shoes-Blue</th>\n",
              "      <th>shoes-Yellow</th>\n",
              "      <th>shoes-Brown</th>\n",
              "      <th>shoes-Mixture</th>\n",
              "    </tr>\n",
              "  </thead>\n",
              "  <tbody>\n",
              "    <tr>\n",
              "      <th>0</th>\n",
              "      <td>CAM31_2014-03-18_20140318125002-20140318125546...</td>\n",
              "      <td>1</td>\n",
              "      <td>0</td>\n",
              "      <td>0</td>\n",
              "      <td>1</td>\n",
              "      <td>0</td>\n",
              "      <td>1</td>\n",
              "      <td>0</td>\n",
              "      <td>0</td>\n",
              "      <td>1</td>\n",
              "      <td>0</td>\n",
              "      <td>0</td>\n",
              "      <td>1</td>\n",
              "      <td>0</td>\n",
              "      <td>0</td>\n",
              "      <td>0</td>\n",
              "      <td>1</td>\n",
              "      <td>0</td>\n",
              "      <td>0</td>\n",
              "      <td>0</td>\n",
              "      <td>0</td>\n",
              "      <td>0</td>\n",
              "      <td>0</td>\n",
              "      <td>0</td>\n",
              "      <td>0</td>\n",
              "      <td>1</td>\n",
              "      <td>0</td>\n",
              "      <td>0</td>\n",
              "      <td>0</td>\n",
              "      <td>0</td>\n",
              "      <td>0</td>\n",
              "      <td>1</td>\n",
              "      <td>0</td>\n",
              "      <td>0</td>\n",
              "      <td>0</td>\n",
              "      <td>0</td>\n",
              "      <td>0</td>\n",
              "      <td>0</td>\n",
              "      <td>0</td>\n",
              "      <td>0</td>\n",
              "      <td>...</td>\n",
              "      <td>0</td>\n",
              "      <td>0</td>\n",
              "      <td>0</td>\n",
              "      <td>0</td>\n",
              "      <td>0</td>\n",
              "      <td>0</td>\n",
              "      <td>0</td>\n",
              "      <td>0</td>\n",
              "      <td>0</td>\n",
              "      <td>0</td>\n",
              "      <td>0</td>\n",
              "      <td>0</td>\n",
              "      <td>1</td>\n",
              "      <td>0</td>\n",
              "      <td>1</td>\n",
              "      <td>0</td>\n",
              "      <td>0</td>\n",
              "      <td>0</td>\n",
              "      <td>0</td>\n",
              "      <td>0</td>\n",
              "      <td>0</td>\n",
              "      <td>0</td>\n",
              "      <td>0</td>\n",
              "      <td>1</td>\n",
              "      <td>0</td>\n",
              "      <td>0</td>\n",
              "      <td>0</td>\n",
              "      <td>0</td>\n",
              "      <td>0</td>\n",
              "      <td>0</td>\n",
              "      <td>0</td>\n",
              "      <td>1</td>\n",
              "      <td>0</td>\n",
              "      <td>0</td>\n",
              "      <td>0</td>\n",
              "      <td>0</td>\n",
              "      <td>0</td>\n",
              "      <td>0</td>\n",
              "      <td>0</td>\n",
              "      <td>0</td>\n",
              "    </tr>\n",
              "    <tr>\n",
              "      <th>1</th>\n",
              "      <td>CAM31_2014-03-18_20140318125002-20140318125546...</td>\n",
              "      <td>0</td>\n",
              "      <td>0</td>\n",
              "      <td>0</td>\n",
              "      <td>1</td>\n",
              "      <td>0</td>\n",
              "      <td>1</td>\n",
              "      <td>0</td>\n",
              "      <td>1</td>\n",
              "      <td>0</td>\n",
              "      <td>0</td>\n",
              "      <td>0</td>\n",
              "      <td>1</td>\n",
              "      <td>0</td>\n",
              "      <td>0</td>\n",
              "      <td>0</td>\n",
              "      <td>0</td>\n",
              "      <td>0</td>\n",
              "      <td>0</td>\n",
              "      <td>0</td>\n",
              "      <td>0</td>\n",
              "      <td>1</td>\n",
              "      <td>0</td>\n",
              "      <td>0</td>\n",
              "      <td>0</td>\n",
              "      <td>1</td>\n",
              "      <td>0</td>\n",
              "      <td>0</td>\n",
              "      <td>0</td>\n",
              "      <td>0</td>\n",
              "      <td>0</td>\n",
              "      <td>0</td>\n",
              "      <td>0</td>\n",
              "      <td>0</td>\n",
              "      <td>0</td>\n",
              "      <td>0</td>\n",
              "      <td>0</td>\n",
              "      <td>0</td>\n",
              "      <td>0</td>\n",
              "      <td>0</td>\n",
              "      <td>...</td>\n",
              "      <td>0</td>\n",
              "      <td>1</td>\n",
              "      <td>0</td>\n",
              "      <td>0</td>\n",
              "      <td>0</td>\n",
              "      <td>0</td>\n",
              "      <td>1</td>\n",
              "      <td>1</td>\n",
              "      <td>0</td>\n",
              "      <td>0</td>\n",
              "      <td>0</td>\n",
              "      <td>1</td>\n",
              "      <td>0</td>\n",
              "      <td>0</td>\n",
              "      <td>0</td>\n",
              "      <td>0</td>\n",
              "      <td>0</td>\n",
              "      <td>0</td>\n",
              "      <td>0</td>\n",
              "      <td>0</td>\n",
              "      <td>0</td>\n",
              "      <td>0</td>\n",
              "      <td>1</td>\n",
              "      <td>1</td>\n",
              "      <td>0</td>\n",
              "      <td>0</td>\n",
              "      <td>0</td>\n",
              "      <td>0</td>\n",
              "      <td>0</td>\n",
              "      <td>0</td>\n",
              "      <td>0</td>\n",
              "      <td>0</td>\n",
              "      <td>0</td>\n",
              "      <td>0</td>\n",
              "      <td>0</td>\n",
              "      <td>0</td>\n",
              "      <td>0</td>\n",
              "      <td>0</td>\n",
              "      <td>0</td>\n",
              "      <td>0</td>\n",
              "    </tr>\n",
              "    <tr>\n",
              "      <th>2</th>\n",
              "      <td>CAM31_2014-03-18_20140318125002-20140318125546...</td>\n",
              "      <td>1</td>\n",
              "      <td>0</td>\n",
              "      <td>0</td>\n",
              "      <td>1</td>\n",
              "      <td>0</td>\n",
              "      <td>1</td>\n",
              "      <td>0</td>\n",
              "      <td>1</td>\n",
              "      <td>0</td>\n",
              "      <td>0</td>\n",
              "      <td>0</td>\n",
              "      <td>1</td>\n",
              "      <td>0</td>\n",
              "      <td>0</td>\n",
              "      <td>0</td>\n",
              "      <td>0</td>\n",
              "      <td>0</td>\n",
              "      <td>0</td>\n",
              "      <td>0</td>\n",
              "      <td>1</td>\n",
              "      <td>0</td>\n",
              "      <td>0</td>\n",
              "      <td>0</td>\n",
              "      <td>0</td>\n",
              "      <td>1</td>\n",
              "      <td>0</td>\n",
              "      <td>0</td>\n",
              "      <td>0</td>\n",
              "      <td>0</td>\n",
              "      <td>0</td>\n",
              "      <td>1</td>\n",
              "      <td>0</td>\n",
              "      <td>0</td>\n",
              "      <td>0</td>\n",
              "      <td>0</td>\n",
              "      <td>0</td>\n",
              "      <td>0</td>\n",
              "      <td>0</td>\n",
              "      <td>0</td>\n",
              "      <td>...</td>\n",
              "      <td>1</td>\n",
              "      <td>0</td>\n",
              "      <td>0</td>\n",
              "      <td>0</td>\n",
              "      <td>0</td>\n",
              "      <td>0</td>\n",
              "      <td>1</td>\n",
              "      <td>1</td>\n",
              "      <td>0</td>\n",
              "      <td>0</td>\n",
              "      <td>0</td>\n",
              "      <td>0</td>\n",
              "      <td>0</td>\n",
              "      <td>0</td>\n",
              "      <td>1</td>\n",
              "      <td>0</td>\n",
              "      <td>0</td>\n",
              "      <td>0</td>\n",
              "      <td>0</td>\n",
              "      <td>0</td>\n",
              "      <td>0</td>\n",
              "      <td>0</td>\n",
              "      <td>0</td>\n",
              "      <td>1</td>\n",
              "      <td>0</td>\n",
              "      <td>0</td>\n",
              "      <td>0</td>\n",
              "      <td>0</td>\n",
              "      <td>0</td>\n",
              "      <td>0</td>\n",
              "      <td>0</td>\n",
              "      <td>1</td>\n",
              "      <td>0</td>\n",
              "      <td>0</td>\n",
              "      <td>0</td>\n",
              "      <td>0</td>\n",
              "      <td>0</td>\n",
              "      <td>0</td>\n",
              "      <td>0</td>\n",
              "      <td>0</td>\n",
              "    </tr>\n",
              "    <tr>\n",
              "      <th>3</th>\n",
              "      <td>CAM31_2014-03-18_20140318125002-20140318125546...</td>\n",
              "      <td>0</td>\n",
              "      <td>0</td>\n",
              "      <td>1</td>\n",
              "      <td>0</td>\n",
              "      <td>0</td>\n",
              "      <td>1</td>\n",
              "      <td>0</td>\n",
              "      <td>1</td>\n",
              "      <td>0</td>\n",
              "      <td>0</td>\n",
              "      <td>0</td>\n",
              "      <td>1</td>\n",
              "      <td>0</td>\n",
              "      <td>0</td>\n",
              "      <td>0</td>\n",
              "      <td>0</td>\n",
              "      <td>0</td>\n",
              "      <td>0</td>\n",
              "      <td>1</td>\n",
              "      <td>0</td>\n",
              "      <td>0</td>\n",
              "      <td>0</td>\n",
              "      <td>0</td>\n",
              "      <td>0</td>\n",
              "      <td>0</td>\n",
              "      <td>0</td>\n",
              "      <td>0</td>\n",
              "      <td>0</td>\n",
              "      <td>1</td>\n",
              "      <td>0</td>\n",
              "      <td>0</td>\n",
              "      <td>1</td>\n",
              "      <td>0</td>\n",
              "      <td>0</td>\n",
              "      <td>0</td>\n",
              "      <td>0</td>\n",
              "      <td>0</td>\n",
              "      <td>0</td>\n",
              "      <td>0</td>\n",
              "      <td>...</td>\n",
              "      <td>0</td>\n",
              "      <td>0</td>\n",
              "      <td>1</td>\n",
              "      <td>0</td>\n",
              "      <td>0</td>\n",
              "      <td>0</td>\n",
              "      <td>0</td>\n",
              "      <td>0</td>\n",
              "      <td>0</td>\n",
              "      <td>0</td>\n",
              "      <td>0</td>\n",
              "      <td>0</td>\n",
              "      <td>1</td>\n",
              "      <td>0</td>\n",
              "      <td>0</td>\n",
              "      <td>1</td>\n",
              "      <td>0</td>\n",
              "      <td>0</td>\n",
              "      <td>0</td>\n",
              "      <td>0</td>\n",
              "      <td>0</td>\n",
              "      <td>0</td>\n",
              "      <td>0</td>\n",
              "      <td>0</td>\n",
              "      <td>0</td>\n",
              "      <td>1</td>\n",
              "      <td>0</td>\n",
              "      <td>0</td>\n",
              "      <td>1</td>\n",
              "      <td>0</td>\n",
              "      <td>0</td>\n",
              "      <td>0</td>\n",
              "      <td>1</td>\n",
              "      <td>1</td>\n",
              "      <td>0</td>\n",
              "      <td>0</td>\n",
              "      <td>0</td>\n",
              "      <td>0</td>\n",
              "      <td>0</td>\n",
              "      <td>0</td>\n",
              "    </tr>\n",
              "    <tr>\n",
              "      <th>4</th>\n",
              "      <td>CAM31_2014-03-18_20140318125002-20140318125546...</td>\n",
              "      <td>0</td>\n",
              "      <td>0</td>\n",
              "      <td>0</td>\n",
              "      <td>1</td>\n",
              "      <td>0</td>\n",
              "      <td>1</td>\n",
              "      <td>0</td>\n",
              "      <td>1</td>\n",
              "      <td>0</td>\n",
              "      <td>0</td>\n",
              "      <td>0</td>\n",
              "      <td>1</td>\n",
              "      <td>0</td>\n",
              "      <td>0</td>\n",
              "      <td>0</td>\n",
              "      <td>1</td>\n",
              "      <td>0</td>\n",
              "      <td>0</td>\n",
              "      <td>0</td>\n",
              "      <td>0</td>\n",
              "      <td>0</td>\n",
              "      <td>0</td>\n",
              "      <td>0</td>\n",
              "      <td>0</td>\n",
              "      <td>1</td>\n",
              "      <td>0</td>\n",
              "      <td>0</td>\n",
              "      <td>0</td>\n",
              "      <td>0</td>\n",
              "      <td>0</td>\n",
              "      <td>0</td>\n",
              "      <td>0</td>\n",
              "      <td>0</td>\n",
              "      <td>0</td>\n",
              "      <td>0</td>\n",
              "      <td>0</td>\n",
              "      <td>0</td>\n",
              "      <td>0</td>\n",
              "      <td>0</td>\n",
              "      <td>...</td>\n",
              "      <td>0</td>\n",
              "      <td>1</td>\n",
              "      <td>0</td>\n",
              "      <td>0</td>\n",
              "      <td>0</td>\n",
              "      <td>0</td>\n",
              "      <td>1</td>\n",
              "      <td>1</td>\n",
              "      <td>0</td>\n",
              "      <td>0</td>\n",
              "      <td>0</td>\n",
              "      <td>1</td>\n",
              "      <td>0</td>\n",
              "      <td>1</td>\n",
              "      <td>0</td>\n",
              "      <td>0</td>\n",
              "      <td>0</td>\n",
              "      <td>0</td>\n",
              "      <td>0</td>\n",
              "      <td>0</td>\n",
              "      <td>0</td>\n",
              "      <td>0</td>\n",
              "      <td>0</td>\n",
              "      <td>0</td>\n",
              "      <td>0</td>\n",
              "      <td>0</td>\n",
              "      <td>0</td>\n",
              "      <td>1</td>\n",
              "      <td>0</td>\n",
              "      <td>0</td>\n",
              "      <td>0</td>\n",
              "      <td>0</td>\n",
              "      <td>0</td>\n",
              "      <td>0</td>\n",
              "      <td>0</td>\n",
              "      <td>0</td>\n",
              "      <td>0</td>\n",
              "      <td>0</td>\n",
              "      <td>0</td>\n",
              "      <td>0</td>\n",
              "    </tr>\n",
              "  </tbody>\n",
              "</table>\n",
              "<p>5 rows × 93 columns</p>\n",
              "</div>"
            ],
            "text/plain": [
              "                                           ImageName  ...  shoes-Mixture\n",
              "0  CAM31_2014-03-18_20140318125002-20140318125546...  ...              0\n",
              "1  CAM31_2014-03-18_20140318125002-20140318125546...  ...              0\n",
              "2  CAM31_2014-03-18_20140318125002-20140318125546...  ...              0\n",
              "3  CAM31_2014-03-18_20140318125002-20140318125546...  ...              0\n",
              "4  CAM31_2014-03-18_20140318125002-20140318125546...  ...              0\n",
              "\n",
              "[5 rows x 93 columns]"
            ]
          },
          "metadata": {
            "tags": []
          },
          "execution_count": 37
        }
      ]
    },
    {
      "cell_type": "code",
      "metadata": {
        "id": "ctV6HDAfPlJ1",
        "colab": {
          "base_uri": "https://localhost:8080/"
        },
        "outputId": "e2821148-b437-4eca-eeb6-6ff6b9fae656"
      },
      "source": [
        "df.columns"
      ],
      "execution_count": null,
      "outputs": [
        {
          "output_type": "execute_result",
          "data": {
            "text/plain": [
              "Index(['ImageName', 'Female', 'AgeLess16', 'Age17-30', 'Age31-45', 'BodyFat',\n",
              "       'BodyNormal', 'BodyThin', 'Customer', 'Clerk', 'hs-BaldHead',\n",
              "       'hs-LongHair', 'hs-BlackHair', 'hs-Hat', 'hs-Glasses', 'hs-Muffler',\n",
              "       'ub-Shirt', 'ub-Sweater', 'ub-Vest', 'ub-TShirt', 'ub-Cotton',\n",
              "       'ub-Jacket', 'ub-SuitUp', 'ub-Tight', 'ub-ShortSleeve',\n",
              "       'lb-LongTrousers', 'lb-Skirt', 'lb-ShortSkirt', 'lb-Dress', 'lb-Jeans',\n",
              "       'lb-TightTrousers', 'shoes-Leather', 'shoes-Sport', 'shoes-Boots',\n",
              "       'shoes-Cloth', 'shoes-Casual', 'attach-Backpack',\n",
              "       'attach-SingleShoulderBag', 'attach-HandBag', 'attach-Box',\n",
              "       'attach-PlasticBag', 'attach-PaperBag', 'attach-HandTrunk',\n",
              "       'attach-Other', 'action-Calling', 'action-Talking', 'action-Gathering',\n",
              "       'action-Holding', 'action-Pusing', 'action-Pulling',\n",
              "       'action-CarrybyArm', 'action-CarrybyHand', 'faceFront', 'faceBack',\n",
              "       'faceLeft', 'faceRight', 'occlusionLeft', 'occlusionRight',\n",
              "       'occlusionUp', 'occlusionDown', 'occlusion-Environment',\n",
              "       'occlusion-Attachment', 'occlusion-Person', 'occlusion-Other',\n",
              "       'up-Black', 'up-White', 'up-Gray', 'up-Red', 'up-Green', 'up-Blue',\n",
              "       'up-Yellow', 'up-Brown', 'up-Purple', 'up-Pink', 'up-Orange',\n",
              "       'up-Mixture', 'low-Black', 'low-White', 'low-Gray', 'low-Red',\n",
              "       'low-Green', 'low-Blue', 'low-Yellow', 'low-Mixture', 'shoes-Black',\n",
              "       'shoes-White', 'shoes-Gray', 'shoes-Red', 'shoes-Green', 'shoes-Blue',\n",
              "       'shoes-Yellow', 'shoes-Brown', 'shoes-Mixture'],\n",
              "      dtype='object')"
            ]
          },
          "metadata": {
            "tags": []
          },
          "execution_count": 38
        }
      ]
    },
    {
      "cell_type": "code",
      "metadata": {
        "id": "WeerrNnXPZRt"
      },
      "source": [
        "position = position/position.max()"
      ],
      "execution_count": null,
      "outputs": []
    },
    {
      "cell_type": "code",
      "metadata": {
        "id": "ak-A3ZIcRFzM",
        "colab": {
          "base_uri": "https://localhost:8080/"
        },
        "outputId": "71a29668-a4b8-40f3-b740-b08378bf6c1d"
      },
      "source": [
        "len(position)"
      ],
      "execution_count": null,
      "outputs": [
        {
          "output_type": "execute_result",
          "data": {
            "text/plain": [
              "41585"
            ]
          },
          "metadata": {
            "tags": []
          },
          "execution_count": 40
        }
      ]
    },
    {
      "cell_type": "code",
      "metadata": {
        "id": "c1BenjF3RcBc",
        "colab": {
          "base_uri": "https://localhost:8080/"
        },
        "outputId": "c21b874b-cbd8-4555-a5b5-8697205c67c2"
      },
      "source": [
        "[position[1]]"
      ],
      "execution_count": null,
      "outputs": [
        {
          "output_type": "execute_result",
          "data": {
            "text/plain": [
              "[array([0.45905512, 0.00393701, 0.09133858, 0.22677165, 0.46456693,\n",
              "        0.00472441, 0.07637795, 0.05590551, 0.45984252, 0.04015748,\n",
              "        0.08976378, 0.10866142, 0.47559055, 0.10787402, 0.07244094,\n",
              "        0.11968504])]"
            ]
          },
          "metadata": {
            "tags": []
          },
          "execution_count": 41
        }
      ]
    },
    {
      "cell_type": "code",
      "metadata": {
        "id": "uV0J1jk7PQKS"
      },
      "source": [
        "df['position'] = [[i] for i in position]"
      ],
      "execution_count": null,
      "outputs": []
    },
    {
      "cell_type": "code",
      "metadata": {
        "id": "A_CvXHGTUng-",
        "colab": {
          "base_uri": "https://localhost:8080/",
          "height": 303
        },
        "outputId": "cf597d5f-04cc-4975-e863-45d872d6f322"
      },
      "source": [
        "df.head(3)"
      ],
      "execution_count": null,
      "outputs": [
        {
          "output_type": "execute_result",
          "data": {
            "text/html": [
              "<div>\n",
              "<style scoped>\n",
              "    .dataframe tbody tr th:only-of-type {\n",
              "        vertical-align: middle;\n",
              "    }\n",
              "\n",
              "    .dataframe tbody tr th {\n",
              "        vertical-align: top;\n",
              "    }\n",
              "\n",
              "    .dataframe thead th {\n",
              "        text-align: right;\n",
              "    }\n",
              "</style>\n",
              "<table border=\"1\" class=\"dataframe\">\n",
              "  <thead>\n",
              "    <tr style=\"text-align: right;\">\n",
              "      <th></th>\n",
              "      <th>ImageName</th>\n",
              "      <th>Female</th>\n",
              "      <th>AgeLess16</th>\n",
              "      <th>Age17-30</th>\n",
              "      <th>Age31-45</th>\n",
              "      <th>BodyFat</th>\n",
              "      <th>BodyNormal</th>\n",
              "      <th>BodyThin</th>\n",
              "      <th>Customer</th>\n",
              "      <th>Clerk</th>\n",
              "      <th>hs-BaldHead</th>\n",
              "      <th>hs-LongHair</th>\n",
              "      <th>hs-BlackHair</th>\n",
              "      <th>hs-Hat</th>\n",
              "      <th>hs-Glasses</th>\n",
              "      <th>hs-Muffler</th>\n",
              "      <th>ub-Shirt</th>\n",
              "      <th>ub-Sweater</th>\n",
              "      <th>ub-Vest</th>\n",
              "      <th>ub-TShirt</th>\n",
              "      <th>ub-Cotton</th>\n",
              "      <th>ub-Jacket</th>\n",
              "      <th>ub-SuitUp</th>\n",
              "      <th>ub-Tight</th>\n",
              "      <th>ub-ShortSleeve</th>\n",
              "      <th>lb-LongTrousers</th>\n",
              "      <th>lb-Skirt</th>\n",
              "      <th>lb-ShortSkirt</th>\n",
              "      <th>lb-Dress</th>\n",
              "      <th>lb-Jeans</th>\n",
              "      <th>lb-TightTrousers</th>\n",
              "      <th>shoes-Leather</th>\n",
              "      <th>shoes-Sport</th>\n",
              "      <th>shoes-Boots</th>\n",
              "      <th>shoes-Cloth</th>\n",
              "      <th>shoes-Casual</th>\n",
              "      <th>attach-Backpack</th>\n",
              "      <th>attach-SingleShoulderBag</th>\n",
              "      <th>attach-HandBag</th>\n",
              "      <th>attach-Box</th>\n",
              "      <th>...</th>\n",
              "      <th>faceLeft</th>\n",
              "      <th>faceRight</th>\n",
              "      <th>occlusionLeft</th>\n",
              "      <th>occlusionRight</th>\n",
              "      <th>occlusionUp</th>\n",
              "      <th>occlusionDown</th>\n",
              "      <th>occlusion-Environment</th>\n",
              "      <th>occlusion-Attachment</th>\n",
              "      <th>occlusion-Person</th>\n",
              "      <th>occlusion-Other</th>\n",
              "      <th>up-Black</th>\n",
              "      <th>up-White</th>\n",
              "      <th>up-Gray</th>\n",
              "      <th>up-Red</th>\n",
              "      <th>up-Green</th>\n",
              "      <th>up-Blue</th>\n",
              "      <th>up-Yellow</th>\n",
              "      <th>up-Brown</th>\n",
              "      <th>up-Purple</th>\n",
              "      <th>up-Pink</th>\n",
              "      <th>up-Orange</th>\n",
              "      <th>up-Mixture</th>\n",
              "      <th>low-Black</th>\n",
              "      <th>low-White</th>\n",
              "      <th>low-Gray</th>\n",
              "      <th>low-Red</th>\n",
              "      <th>low-Green</th>\n",
              "      <th>low-Blue</th>\n",
              "      <th>low-Yellow</th>\n",
              "      <th>low-Mixture</th>\n",
              "      <th>shoes-Black</th>\n",
              "      <th>shoes-White</th>\n",
              "      <th>shoes-Gray</th>\n",
              "      <th>shoes-Red</th>\n",
              "      <th>shoes-Green</th>\n",
              "      <th>shoes-Blue</th>\n",
              "      <th>shoes-Yellow</th>\n",
              "      <th>shoes-Brown</th>\n",
              "      <th>shoes-Mixture</th>\n",
              "      <th>position</th>\n",
              "    </tr>\n",
              "  </thead>\n",
              "  <tbody>\n",
              "    <tr>\n",
              "      <th>0</th>\n",
              "      <td>CAM31_2014-03-18_20140318125002-20140318125546...</td>\n",
              "      <td>1</td>\n",
              "      <td>0</td>\n",
              "      <td>0</td>\n",
              "      <td>1</td>\n",
              "      <td>0</td>\n",
              "      <td>1</td>\n",
              "      <td>0</td>\n",
              "      <td>0</td>\n",
              "      <td>1</td>\n",
              "      <td>0</td>\n",
              "      <td>0</td>\n",
              "      <td>1</td>\n",
              "      <td>0</td>\n",
              "      <td>0</td>\n",
              "      <td>0</td>\n",
              "      <td>1</td>\n",
              "      <td>0</td>\n",
              "      <td>0</td>\n",
              "      <td>0</td>\n",
              "      <td>0</td>\n",
              "      <td>0</td>\n",
              "      <td>0</td>\n",
              "      <td>0</td>\n",
              "      <td>0</td>\n",
              "      <td>1</td>\n",
              "      <td>0</td>\n",
              "      <td>0</td>\n",
              "      <td>0</td>\n",
              "      <td>0</td>\n",
              "      <td>0</td>\n",
              "      <td>1</td>\n",
              "      <td>0</td>\n",
              "      <td>0</td>\n",
              "      <td>0</td>\n",
              "      <td>0</td>\n",
              "      <td>0</td>\n",
              "      <td>0</td>\n",
              "      <td>0</td>\n",
              "      <td>0</td>\n",
              "      <td>...</td>\n",
              "      <td>0</td>\n",
              "      <td>0</td>\n",
              "      <td>0</td>\n",
              "      <td>0</td>\n",
              "      <td>0</td>\n",
              "      <td>0</td>\n",
              "      <td>0</td>\n",
              "      <td>0</td>\n",
              "      <td>0</td>\n",
              "      <td>0</td>\n",
              "      <td>0</td>\n",
              "      <td>1</td>\n",
              "      <td>0</td>\n",
              "      <td>1</td>\n",
              "      <td>0</td>\n",
              "      <td>0</td>\n",
              "      <td>0</td>\n",
              "      <td>0</td>\n",
              "      <td>0</td>\n",
              "      <td>0</td>\n",
              "      <td>0</td>\n",
              "      <td>0</td>\n",
              "      <td>1</td>\n",
              "      <td>0</td>\n",
              "      <td>0</td>\n",
              "      <td>0</td>\n",
              "      <td>0</td>\n",
              "      <td>0</td>\n",
              "      <td>0</td>\n",
              "      <td>0</td>\n",
              "      <td>1</td>\n",
              "      <td>0</td>\n",
              "      <td>0</td>\n",
              "      <td>0</td>\n",
              "      <td>0</td>\n",
              "      <td>0</td>\n",
              "      <td>0</td>\n",
              "      <td>0</td>\n",
              "      <td>0</td>\n",
              "      <td>[[0.5456692913385827, 0.012598425196850394, 0....</td>\n",
              "    </tr>\n",
              "    <tr>\n",
              "      <th>1</th>\n",
              "      <td>CAM31_2014-03-18_20140318125002-20140318125546...</td>\n",
              "      <td>0</td>\n",
              "      <td>0</td>\n",
              "      <td>0</td>\n",
              "      <td>1</td>\n",
              "      <td>0</td>\n",
              "      <td>1</td>\n",
              "      <td>0</td>\n",
              "      <td>1</td>\n",
              "      <td>0</td>\n",
              "      <td>0</td>\n",
              "      <td>0</td>\n",
              "      <td>1</td>\n",
              "      <td>0</td>\n",
              "      <td>0</td>\n",
              "      <td>0</td>\n",
              "      <td>0</td>\n",
              "      <td>0</td>\n",
              "      <td>0</td>\n",
              "      <td>0</td>\n",
              "      <td>0</td>\n",
              "      <td>1</td>\n",
              "      <td>0</td>\n",
              "      <td>0</td>\n",
              "      <td>0</td>\n",
              "      <td>1</td>\n",
              "      <td>0</td>\n",
              "      <td>0</td>\n",
              "      <td>0</td>\n",
              "      <td>0</td>\n",
              "      <td>0</td>\n",
              "      <td>0</td>\n",
              "      <td>0</td>\n",
              "      <td>0</td>\n",
              "      <td>0</td>\n",
              "      <td>0</td>\n",
              "      <td>0</td>\n",
              "      <td>0</td>\n",
              "      <td>0</td>\n",
              "      <td>0</td>\n",
              "      <td>...</td>\n",
              "      <td>1</td>\n",
              "      <td>0</td>\n",
              "      <td>0</td>\n",
              "      <td>0</td>\n",
              "      <td>0</td>\n",
              "      <td>1</td>\n",
              "      <td>1</td>\n",
              "      <td>0</td>\n",
              "      <td>0</td>\n",
              "      <td>0</td>\n",
              "      <td>1</td>\n",
              "      <td>0</td>\n",
              "      <td>0</td>\n",
              "      <td>0</td>\n",
              "      <td>0</td>\n",
              "      <td>0</td>\n",
              "      <td>0</td>\n",
              "      <td>0</td>\n",
              "      <td>0</td>\n",
              "      <td>0</td>\n",
              "      <td>0</td>\n",
              "      <td>1</td>\n",
              "      <td>1</td>\n",
              "      <td>0</td>\n",
              "      <td>0</td>\n",
              "      <td>0</td>\n",
              "      <td>0</td>\n",
              "      <td>0</td>\n",
              "      <td>0</td>\n",
              "      <td>0</td>\n",
              "      <td>0</td>\n",
              "      <td>0</td>\n",
              "      <td>0</td>\n",
              "      <td>0</td>\n",
              "      <td>0</td>\n",
              "      <td>0</td>\n",
              "      <td>0</td>\n",
              "      <td>0</td>\n",
              "      <td>0</td>\n",
              "      <td>[[0.4590551181102362, 0.003937007874015748, 0....</td>\n",
              "    </tr>\n",
              "    <tr>\n",
              "      <th>2</th>\n",
              "      <td>CAM31_2014-03-18_20140318125002-20140318125546...</td>\n",
              "      <td>1</td>\n",
              "      <td>0</td>\n",
              "      <td>0</td>\n",
              "      <td>1</td>\n",
              "      <td>0</td>\n",
              "      <td>1</td>\n",
              "      <td>0</td>\n",
              "      <td>1</td>\n",
              "      <td>0</td>\n",
              "      <td>0</td>\n",
              "      <td>0</td>\n",
              "      <td>1</td>\n",
              "      <td>0</td>\n",
              "      <td>0</td>\n",
              "      <td>0</td>\n",
              "      <td>0</td>\n",
              "      <td>0</td>\n",
              "      <td>0</td>\n",
              "      <td>0</td>\n",
              "      <td>1</td>\n",
              "      <td>0</td>\n",
              "      <td>0</td>\n",
              "      <td>0</td>\n",
              "      <td>0</td>\n",
              "      <td>1</td>\n",
              "      <td>0</td>\n",
              "      <td>0</td>\n",
              "      <td>0</td>\n",
              "      <td>0</td>\n",
              "      <td>0</td>\n",
              "      <td>1</td>\n",
              "      <td>0</td>\n",
              "      <td>0</td>\n",
              "      <td>0</td>\n",
              "      <td>0</td>\n",
              "      <td>0</td>\n",
              "      <td>0</td>\n",
              "      <td>0</td>\n",
              "      <td>0</td>\n",
              "      <td>...</td>\n",
              "      <td>0</td>\n",
              "      <td>0</td>\n",
              "      <td>0</td>\n",
              "      <td>0</td>\n",
              "      <td>0</td>\n",
              "      <td>1</td>\n",
              "      <td>1</td>\n",
              "      <td>0</td>\n",
              "      <td>0</td>\n",
              "      <td>0</td>\n",
              "      <td>0</td>\n",
              "      <td>0</td>\n",
              "      <td>0</td>\n",
              "      <td>1</td>\n",
              "      <td>0</td>\n",
              "      <td>0</td>\n",
              "      <td>0</td>\n",
              "      <td>0</td>\n",
              "      <td>0</td>\n",
              "      <td>0</td>\n",
              "      <td>0</td>\n",
              "      <td>0</td>\n",
              "      <td>1</td>\n",
              "      <td>0</td>\n",
              "      <td>0</td>\n",
              "      <td>0</td>\n",
              "      <td>0</td>\n",
              "      <td>0</td>\n",
              "      <td>0</td>\n",
              "      <td>0</td>\n",
              "      <td>1</td>\n",
              "      <td>0</td>\n",
              "      <td>0</td>\n",
              "      <td>0</td>\n",
              "      <td>0</td>\n",
              "      <td>0</td>\n",
              "      <td>0</td>\n",
              "      <td>0</td>\n",
              "      <td>0</td>\n",
              "      <td>[[0.5204724409448819, 0.013385826771653543, 0....</td>\n",
              "    </tr>\n",
              "  </tbody>\n",
              "</table>\n",
              "<p>3 rows × 94 columns</p>\n",
              "</div>"
            ],
            "text/plain": [
              "                                           ImageName  ...                                           position\n",
              "0  CAM31_2014-03-18_20140318125002-20140318125546...  ...  [[0.5456692913385827, 0.012598425196850394, 0....\n",
              "1  CAM31_2014-03-18_20140318125002-20140318125546...  ...  [[0.4590551181102362, 0.003937007874015748, 0....\n",
              "2  CAM31_2014-03-18_20140318125002-20140318125546...  ...  [[0.5204724409448819, 0.013385826771653543, 0....\n",
              "\n",
              "[3 rows x 94 columns]"
            ]
          },
          "metadata": {
            "tags": []
          },
          "execution_count": 44
        }
      ]
    },
    {
      "cell_type": "code",
      "metadata": {
        "id": "uCTN9lMd5X0e"
      },
      "source": [
        "from sklearn.model_selection import train_test_split\r\n",
        "from keras.models import Sequential,Model\r\n",
        "from keras.layers import Conv2D, MaxPooling2D, ConvLSTM2D, Concatenate , Dense, Dropout, Flatten\r\n",
        "from keras.preprocessing import image\r\n",
        "from keras.layers.normalization import BatchNormalization\r\n",
        "from keras.callbacks import EarlyStopping\r\n",
        "from tqdm.notebook import tqdm\r\n",
        "import matplotlib.pyplot as plt"
      ],
      "execution_count": null,
      "outputs": []
    },
    {
      "cell_type": "markdown",
      "metadata": {
        "id": "gey356u7Jg7w"
      },
      "source": [
        "We only choose the first 3000 rows off the dataset in other to time saviing."
      ]
    },
    {
      "cell_type": "code",
      "metadata": {
        "id": "jqS-wz9LwyTB"
      },
      "source": [
        "images_directory = '/gdrive/My Drive/RAP_dataset/RAP_dataset/'"
      ],
      "execution_count": null,
      "outputs": []
    },
    {
      "cell_type": "code",
      "metadata": {
        "id": "v3Zpg9M-P3aG"
      },
      "source": [
        "SAMPLE_SIZE = 3000"
      ],
      "execution_count": null,
      "outputs": []
    },
    {
      "cell_type": "code",
      "metadata": {
        "id": "0U1M9u3UT1kT"
      },
      "source": [
        "df1 = df.iloc[:SAMPLE_SIZE]"
      ],
      "execution_count": null,
      "outputs": []
    },
    {
      "cell_type": "code",
      "metadata": {
        "id": "fZBcdk7UJLcj"
      },
      "source": [
        "SIZE = 100"
      ],
      "execution_count": null,
      "outputs": []
    },
    {
      "cell_type": "code",
      "metadata": {
        "colab": {
          "base_uri": "https://localhost:8080/",
          "height": 66,
          "referenced_widgets": [
            "6268b3228c064dbd80ba5e4f0844aeed",
            "1f9cdbe20614478b896d354fa9dadea0",
            "a9052ff4f34e4fe1b8b6842263c685ec",
            "b466cfcbe2944e15a82462140caeabf9",
            "1b5bc89cb92f466890adb65e9583bdb0",
            "5a6ac350ef5e490294a2c5f6800bc244",
            "3c838537044046c49c39cc770d6924e3",
            "5d2cd47b4b8c467bb34f376e9c356fcc"
          ]
        },
        "id": "cxzXYWGHPo9g",
        "outputId": "c0954171-6eec-4022-9f60-2d3aa71dda99"
      },
      "source": [
        "X_dataset = []\r\n",
        "for i in tqdm(range(df1.shape[0])):\r\n",
        "  img = image.load_img(images_directory+df1['ImageName'][i], target_size=(SIZE, SIZE, 3))\r\n",
        "  img = image.img_to_array(img)\r\n",
        "  img = img /255.\r\n",
        "  X_dataset.append(img)"
      ],
      "execution_count": null,
      "outputs": [
        {
          "output_type": "display_data",
          "data": {
            "application/vnd.jupyter.widget-view+json": {
              "model_id": "6268b3228c064dbd80ba5e4f0844aeed",
              "version_minor": 0,
              "version_major": 2
            },
            "text/plain": [
              "HBox(children=(FloatProgress(value=0.0, max=3000.0), HTML(value='')))"
            ]
          },
          "metadata": {
            "tags": []
          }
        },
        {
          "output_type": "stream",
          "text": [
            "\n"
          ],
          "name": "stdout"
        }
      ]
    },
    {
      "cell_type": "code",
      "metadata": {
        "id": "oyPXWJSgUl4H"
      },
      "source": [
        "X = np.array(X_dataset)"
      ],
      "execution_count": null,
      "outputs": []
    },
    {
      "cell_type": "code",
      "metadata": {
        "colab": {
          "base_uri": "https://localhost:8080/"
        },
        "id": "pPnk6SISW92I",
        "outputId": "0e2882e6-a72e-4edf-f80c-17fe5934c27b"
      },
      "source": [
        "X.shape"
      ],
      "execution_count": null,
      "outputs": [
        {
          "output_type": "execute_result",
          "data": {
            "text/plain": [
              "(3000, 100, 100, 3)"
            ]
          },
          "metadata": {
            "tags": []
          },
          "execution_count": 59
        }
      ]
    },
    {
      "cell_type": "code",
      "metadata": {
        "id": "rYdOKqL9XTNl"
      },
      "source": [
        "y = np.array(df1.drop(['ImageName'], axis=1))"
      ],
      "execution_count": null,
      "outputs": []
    },
    {
      "cell_type": "code",
      "metadata": {
        "id": "P176_EBlXzCz"
      },
      "source": [
        "X_train, X_test, y_tra, y_te = train_test_split(X, y, random_state=20, test_size=0.3)"
      ],
      "execution_count": null,
      "outputs": []
    },
    {
      "cell_type": "code",
      "metadata": {
        "id": "KgSJ3GQaholt"
      },
      "source": [
        "pos_train = tf.convert_to_tensor(np.array([y_tra[i][92] for i in range(len(y_tra))]).reshape(len(y_tra),16))\n",
        "pos_test = tf.convert_to_tensor(np.array([y_te[i][92] for i in range(len(y_te))]).reshape(len(y_te),16))\n",
        "\n",
        "y_train = tf.convert_to_tensor( [y_tra[i][:92] for i in range(len(y_tra))])\n",
        "y_test = tf.convert_to_tensor( [y_te[i][:92] for i in range(len(y_te))])"
      ],
      "execution_count": null,
      "outputs": []
    },
    {
      "cell_type": "code",
      "metadata": {
        "id": "NEAXLla5_vka",
        "colab": {
          "base_uri": "https://localhost:8080/"
        },
        "outputId": "0f267a13-b2e7-4ca9-d70e-834e8f6f801e"
      },
      "source": [
        "len(y_train[1])"
      ],
      "execution_count": null,
      "outputs": [
        {
          "output_type": "execute_result",
          "data": {
            "text/plain": [
              "92"
            ]
          },
          "metadata": {
            "tags": []
          },
          "execution_count": 63
        }
      ]
    },
    {
      "cell_type": "code",
      "metadata": {
        "colab": {
          "base_uri": "https://localhost:8080/"
        },
        "id": "BTicj_a4WgTQ",
        "outputId": "6e850066-4b77-4716-ea20-b63f7d79f5ac"
      },
      "source": [
        "len(pos_train[1])"
      ],
      "execution_count": null,
      "outputs": [
        {
          "output_type": "execute_result",
          "data": {
            "text/plain": [
              "16"
            ]
          },
          "metadata": {
            "tags": []
          },
          "execution_count": 64
        }
      ]
    },
    {
      "cell_type": "markdown",
      "metadata": {
        "id": "q0lEmra184Et"
      },
      "source": [
        "Model 1:"
      ]
    },
    {
      "cell_type": "code",
      "metadata": {
        "id": "A8KokY7t_x68",
        "colab": {
          "base_uri": "https://localhost:8080/"
        },
        "outputId": "af503d58-c8c6-4371-8353-625fd700b727"
      },
      "source": [
        "model_cnn = Sequential()\r\n",
        "\r\n",
        "model_cnn.add(Conv2D(filters=16, kernel_size=(5, 5), activation=\"relu\", input_shape=(SIZE,SIZE,3)))\r\n",
        "model_cnn.add(BatchNormalization())\r\n",
        "model_cnn.add(MaxPooling2D(pool_size=(2, 2)))\r\n",
        "model_cnn.add(Dropout(0.2))\r\n",
        "\r\n",
        "model_cnn.add(Conv2D(filters=32, kernel_size=(5, 5), activation='relu'))\r\n",
        "model_cnn.add(MaxPooling2D(pool_size=(2, 2)))\r\n",
        "model_cnn.add(BatchNormalization())\r\n",
        "model_cnn.add(Dropout(0.2))\r\n",
        "\r\n",
        "model_cnn.add(Conv2D(filters=64, kernel_size=(5, 5), activation=\"relu\"))\r\n",
        "model_cnn.add(MaxPooling2D(pool_size=(2, 2)))\r\n",
        "model_cnn.add(BatchNormalization())\r\n",
        "model_cnn.add(Dropout(0.2))\r\n",
        "\r\n",
        "model_cnn.add(Conv2D(filters=64, kernel_size=(5, 5), activation='relu'))\r\n",
        "model_cnn.add(MaxPooling2D(pool_size=(2, 2)))\r\n",
        "model_cnn.add(BatchNormalization())\r\n",
        "model_cnn.add(Dropout(0.2))\r\n",
        "\r\n",
        "model_cnn.add(Flatten())\r\n",
        "model_cnn.add(Dense(128, activation='relu'))\r\n",
        "model_cnn.add(Dropout(0.5))\r\n",
        "model_cnn.add(Dense(64, activation='relu'))\r\n",
        "model_cnn.add(Dropout(0.5))\r\n",
        "model_cnn.add(Dense(92, activation='sigmoid'))\r\n",
        "model_cnn.summary()"
      ],
      "execution_count": null,
      "outputs": [
        {
          "output_type": "stream",
          "text": [
            "Model: \"sequential\"\n",
            "_________________________________________________________________\n",
            "Layer (type)                 Output Shape              Param #   \n",
            "=================================================================\n",
            "conv2d (Conv2D)              (None, 96, 96, 16)        1216      \n",
            "_________________________________________________________________\n",
            "batch_normalization (BatchNo (None, 96, 96, 16)        64        \n",
            "_________________________________________________________________\n",
            "max_pooling2d (MaxPooling2D) (None, 48, 48, 16)        0         \n",
            "_________________________________________________________________\n",
            "dropout (Dropout)            (None, 48, 48, 16)        0         \n",
            "_________________________________________________________________\n",
            "conv2d_1 (Conv2D)            (None, 44, 44, 32)        12832     \n",
            "_________________________________________________________________\n",
            "max_pooling2d_1 (MaxPooling2 (None, 22, 22, 32)        0         \n",
            "_________________________________________________________________\n",
            "batch_normalization_1 (Batch (None, 22, 22, 32)        128       \n",
            "_________________________________________________________________\n",
            "dropout_1 (Dropout)          (None, 22, 22, 32)        0         \n",
            "_________________________________________________________________\n",
            "conv2d_2 (Conv2D)            (None, 18, 18, 64)        51264     \n",
            "_________________________________________________________________\n",
            "max_pooling2d_2 (MaxPooling2 (None, 9, 9, 64)          0         \n",
            "_________________________________________________________________\n",
            "batch_normalization_2 (Batch (None, 9, 9, 64)          256       \n",
            "_________________________________________________________________\n",
            "dropout_2 (Dropout)          (None, 9, 9, 64)          0         \n",
            "_________________________________________________________________\n",
            "conv2d_3 (Conv2D)            (None, 5, 5, 64)          102464    \n",
            "_________________________________________________________________\n",
            "max_pooling2d_3 (MaxPooling2 (None, 2, 2, 64)          0         \n",
            "_________________________________________________________________\n",
            "batch_normalization_3 (Batch (None, 2, 2, 64)          256       \n",
            "_________________________________________________________________\n",
            "dropout_3 (Dropout)          (None, 2, 2, 64)          0         \n",
            "_________________________________________________________________\n",
            "flatten (Flatten)            (None, 256)               0         \n",
            "_________________________________________________________________\n",
            "dense (Dense)                (None, 128)               32896     \n",
            "_________________________________________________________________\n",
            "dropout_4 (Dropout)          (None, 128)               0         \n",
            "_________________________________________________________________\n",
            "dense_1 (Dense)              (None, 64)                8256      \n",
            "_________________________________________________________________\n",
            "dropout_5 (Dropout)          (None, 64)                0         \n",
            "_________________________________________________________________\n",
            "dense_2 (Dense)              (None, 92)                5980      \n",
            "=================================================================\n",
            "Total params: 215,612\n",
            "Trainable params: 215,260\n",
            "Non-trainable params: 352\n",
            "_________________________________________________________________\n"
          ],
          "name": "stdout"
        }
      ]
    },
    {
      "cell_type": "code",
      "metadata": {
        "id": "WN1vHz7Ff03v"
      },
      "source": [
        "model_mlp = Sequential()\n",
        "\n",
        "model_mlp.add(Dense(16 , input_dim = 16, activation = 'relu'))\n",
        "model_mlp.add(Dense(8 , activation = 'relu'))\n",
        "model_mlp.add(Dense(4, activation=\"relu\"))\n",
        "model_mlp.add(Dense(4, activation=\"linear\"))"
      ],
      "execution_count": null,
      "outputs": []
    },
    {
      "cell_type": "code",
      "metadata": {
        "id": "A40jI30ngUwC"
      },
      "source": [
        "model_concat = Concatenate(axis = 1)([model_mlp.output , model_cnn.output])\n",
        "\n",
        "model_concat = Dense(32, activation=\"relu\")(model_concat)\n",
        "model_concat = Dropout(0.2)(model_concat)\n",
        "model_concat = Dense(50, activation=\"relu\")(model_concat)\n",
        "model_concat = Dense(92, activation=\"relu\")(model_concat)\n",
        "model_concat = Dense(92, activation=\"sigmoid\")(model_concat)\n",
        "\n",
        "model_concat = Model(inputs=[model_mlp.input, model_cnn.input], outputs=model_concat)"
      ],
      "execution_count": null,
      "outputs": []
    },
    {
      "cell_type": "code",
      "metadata": {
        "id": "4voJHaUexIu3"
      },
      "source": [
        "model_concat.compile(optimizer='adam', loss='binary_crossentropy', metrics=['binary_accuracy'])"
      ],
      "execution_count": null,
      "outputs": []
    },
    {
      "cell_type": "code",
      "metadata": {
        "colab": {
          "base_uri": "https://localhost:8080/"
        },
        "id": "-fNB4pYpblzF",
        "outputId": "7412a57c-4d86-467b-ae03-c2f126d428e5"
      },
      "source": [
        "es1 = EarlyStopping(monitor='binary_accuracy', verbose=1,mode = 'max', patience=7)\n",
        "es2 = EarlyStopping(monitor='val_loss', verbose=1, patience=7,mode = 'min' ) #when validation loss starts to increase means we start overfitting so it stops after 5 epochs\n",
        "eses = [es1,es2]\n",
        "\n",
        "history = model_concat.fit( x = [pos_train,X_train], y = y_train, epochs=100, validation_data=([pos_test,X_test], y_test), batch_size=64, callbacks= eses ,verbose = 1)"
      ],
      "execution_count": null,
      "outputs": [
        {
          "output_type": "stream",
          "text": [
            "Epoch 1/100\n",
            "33/33 [==============================] - 36s 1s/step - loss: 0.6001 - binary_accuracy: 0.6713 - val_loss: 0.3195 - val_binary_accuracy: 0.8745\n",
            "Epoch 2/100\n",
            "33/33 [==============================] - 34s 1s/step - loss: 0.3218 - binary_accuracy: 0.8721 - val_loss: 0.3049 - val_binary_accuracy: 0.8751\n",
            "Epoch 3/100\n",
            "33/33 [==============================] - 34s 1s/step - loss: 0.3078 - binary_accuracy: 0.8748 - val_loss: 0.3053 - val_binary_accuracy: 0.8732\n",
            "Epoch 4/100\n",
            "33/33 [==============================] - 34s 1s/step - loss: 0.3042 - binary_accuracy: 0.8774 - val_loss: 0.3179 - val_binary_accuracy: 0.8727\n",
            "Epoch 5/100\n",
            "33/33 [==============================] - 34s 1s/step - loss: 0.3002 - binary_accuracy: 0.8792 - val_loss: 0.3193 - val_binary_accuracy: 0.8684\n",
            "Epoch 6/100\n",
            "33/33 [==============================] - 34s 1s/step - loss: 0.2954 - binary_accuracy: 0.8795 - val_loss: 0.2984 - val_binary_accuracy: 0.8768\n",
            "Epoch 7/100\n",
            "33/33 [==============================] - 34s 1s/step - loss: 0.2876 - binary_accuracy: 0.8831 - val_loss: 0.3126 - val_binary_accuracy: 0.8755\n",
            "Epoch 8/100\n",
            "33/33 [==============================] - 34s 1s/step - loss: 0.2905 - binary_accuracy: 0.8828 - val_loss: 0.3037 - val_binary_accuracy: 0.8757\n",
            "Epoch 9/100\n",
            "33/33 [==============================] - 34s 1s/step - loss: 0.2861 - binary_accuracy: 0.8848 - val_loss: 0.2914 - val_binary_accuracy: 0.8804\n",
            "Epoch 10/100\n",
            "33/33 [==============================] - 34s 1s/step - loss: 0.2823 - binary_accuracy: 0.8860 - val_loss: 0.2896 - val_binary_accuracy: 0.8825\n",
            "Epoch 11/100\n",
            "33/33 [==============================] - 34s 1s/step - loss: 0.2821 - binary_accuracy: 0.8871 - val_loss: 0.2903 - val_binary_accuracy: 0.8836\n",
            "Epoch 12/100\n",
            "33/33 [==============================] - 35s 1s/step - loss: 0.2814 - binary_accuracy: 0.8876 - val_loss: 0.2784 - val_binary_accuracy: 0.8883\n",
            "Epoch 13/100\n",
            "33/33 [==============================] - 35s 1s/step - loss: 0.2766 - binary_accuracy: 0.8899 - val_loss: 0.2730 - val_binary_accuracy: 0.8914\n",
            "Epoch 14/100\n",
            "33/33 [==============================] - 35s 1s/step - loss: 0.2739 - binary_accuracy: 0.8914 - val_loss: 0.2786 - val_binary_accuracy: 0.8889\n",
            "Epoch 15/100\n",
            "33/33 [==============================] - 34s 1s/step - loss: 0.2753 - binary_accuracy: 0.8904 - val_loss: 0.2801 - val_binary_accuracy: 0.8889\n",
            "Epoch 16/100\n",
            "33/33 [==============================] - 34s 1s/step - loss: 0.2698 - binary_accuracy: 0.8932 - val_loss: 0.2700 - val_binary_accuracy: 0.8933\n",
            "Epoch 17/100\n",
            "33/33 [==============================] - 34s 1s/step - loss: 0.2697 - binary_accuracy: 0.8921 - val_loss: 0.2785 - val_binary_accuracy: 0.8865\n",
            "Epoch 18/100\n",
            "33/33 [==============================] - 34s 1s/step - loss: 0.2659 - binary_accuracy: 0.8946 - val_loss: 0.2669 - val_binary_accuracy: 0.8935\n",
            "Epoch 19/100\n",
            "33/33 [==============================] - 34s 1s/step - loss: 0.2690 - binary_accuracy: 0.8938 - val_loss: 0.2712 - val_binary_accuracy: 0.8929\n",
            "Epoch 20/100\n",
            "33/33 [==============================] - 34s 1s/step - loss: 0.2639 - binary_accuracy: 0.8950 - val_loss: 0.2707 - val_binary_accuracy: 0.8929\n",
            "Epoch 21/100\n",
            "33/33 [==============================] - 34s 1s/step - loss: 0.2652 - binary_accuracy: 0.8942 - val_loss: 0.2642 - val_binary_accuracy: 0.8947\n",
            "Epoch 22/100\n",
            "33/33 [==============================] - 34s 1s/step - loss: 0.2630 - binary_accuracy: 0.8944 - val_loss: 0.2662 - val_binary_accuracy: 0.8948\n",
            "Epoch 23/100\n",
            "33/33 [==============================] - 34s 1s/step - loss: 0.2627 - binary_accuracy: 0.8954 - val_loss: 0.2583 - val_binary_accuracy: 0.8972\n",
            "Epoch 24/100\n",
            "33/33 [==============================] - 34s 1s/step - loss: 0.2623 - binary_accuracy: 0.8957 - val_loss: 0.2596 - val_binary_accuracy: 0.8962\n",
            "Epoch 25/100\n",
            "33/33 [==============================] - 34s 1s/step - loss: 0.2565 - binary_accuracy: 0.8982 - val_loss: 0.2570 - val_binary_accuracy: 0.8987\n",
            "Epoch 26/100\n",
            "33/33 [==============================] - 34s 1s/step - loss: 0.2586 - binary_accuracy: 0.8971 - val_loss: 0.2669 - val_binary_accuracy: 0.8947\n",
            "Epoch 27/100\n",
            "33/33 [==============================] - 34s 1s/step - loss: 0.2566 - binary_accuracy: 0.8982 - val_loss: 0.2980 - val_binary_accuracy: 0.8794\n",
            "Epoch 28/100\n",
            "33/33 [==============================] - 34s 1s/step - loss: 0.2561 - binary_accuracy: 0.8984 - val_loss: 0.2551 - val_binary_accuracy: 0.8982\n",
            "Epoch 29/100\n",
            "33/33 [==============================] - 34s 1s/step - loss: 0.2523 - binary_accuracy: 0.8995 - val_loss: 0.2528 - val_binary_accuracy: 0.8998\n",
            "Epoch 30/100\n",
            "33/33 [==============================] - 34s 1s/step - loss: 0.2548 - binary_accuracy: 0.8986 - val_loss: 0.2597 - val_binary_accuracy: 0.8973\n",
            "Epoch 31/100\n",
            "33/33 [==============================] - 34s 1s/step - loss: 0.2526 - binary_accuracy: 0.8999 - val_loss: 0.2555 - val_binary_accuracy: 0.8990\n",
            "Epoch 32/100\n",
            "33/33 [==============================] - 34s 1s/step - loss: 0.2512 - binary_accuracy: 0.9012 - val_loss: 0.2562 - val_binary_accuracy: 0.8986\n",
            "Epoch 33/100\n",
            "33/33 [==============================] - 34s 1s/step - loss: 0.2501 - binary_accuracy: 0.9015 - val_loss: 0.2537 - val_binary_accuracy: 0.9008\n",
            "Epoch 34/100\n",
            "33/33 [==============================] - 34s 1s/step - loss: 0.2505 - binary_accuracy: 0.9018 - val_loss: 0.2583 - val_binary_accuracy: 0.8945\n",
            "Epoch 35/100\n",
            "33/33 [==============================] - 34s 1s/step - loss: 0.2492 - binary_accuracy: 0.9013 - val_loss: 0.2847 - val_binary_accuracy: 0.8817\n",
            "Epoch 36/100\n",
            "33/33 [==============================] - 34s 1s/step - loss: 0.2472 - binary_accuracy: 0.9033 - val_loss: 0.2554 - val_binary_accuracy: 0.9007\n",
            "Epoch 00036: early stopping\n"
          ],
          "name": "stdout"
        }
      ]
    },
    {
      "cell_type": "code",
      "metadata": {
        "colab": {
          "base_uri": "https://localhost:8080/",
          "height": 294
        },
        "id": "pAiKf3mkk-Vi",
        "outputId": "f36b8865-539d-448d-fb49-a096d5bcd6b0"
      },
      "source": [
        "loss = history.history['loss']\r\n",
        "val_loss = history.history['val_loss']\r\n",
        "epochs = range(1, len(loss) + 1)\r\n",
        "plt.plot(epochs, loss, 'b', label='Training loss')\r\n",
        "plt.plot(epochs, val_loss, 'r', label='Validation loss')\r\n",
        "plt.title('Training and validation loss')\r\n",
        "plt.xlabel('Epochs')\r\n",
        "plt.ylabel('Loss')\r\n",
        "plt.legend()\r\n",
        "plt.show()"
      ],
      "execution_count": null,
      "outputs": [
        {
          "output_type": "display_data",
          "data": {
            "image/png": "[encoded data removed]",
            "text/plain": [
              "<Figure size 432x288 with 1 Axes>"
            ]
          },
          "metadata": {
            "tags": [],
            "needs_background": "light"
          }
        }
      ]
    },
    {
      "cell_type": "code",
      "metadata": {
        "colab": {
          "base_uri": "https://localhost:8080/",
          "height": 294
        },
        "id": "_3P_d3hcrZ9O",
        "outputId": "2e140480-0e42-4ccb-9b06-8b10363de061"
      },
      "source": [
        "acc = history.history['binary_accuracy']\r\n",
        "val_acc = history.history['val_binary_accuracy']\r\n",
        "epochs = range(1, len(loss) + 1)\r\n",
        "plt.plot(epochs, acc, 'b', label='Training acc')\r\n",
        "plt.plot(epochs, val_acc, 'r', label='Validation acc')\r\n",
        "plt.title('Training and validation accuracy')\r\n",
        "plt.xlabel('Epochs')\r\n",
        "plt.ylabel('Accuracy')\r\n",
        "plt.legend()\r\n",
        "plt.show()"
      ],
      "execution_count": null,
      "outputs": [
        {
          "output_type": "display_data",
          "data": {
            "image/png": "[encoded data removed]",
            "text/plain": [
              "<Figure size 432x288 with 1 Axes>"
            ]
          },
          "metadata": {
            "tags": [],
            "needs_background": "light"
          }
        }
      ]
    },
    {
      "cell_type": "markdown",
      "metadata": {
        "id": "EgxC5sJ7f01l"
      },
      "source": [
        "What if we set y_train to all zero?\n",
        "\n",
        "Does our network really work or it's just about sparsity of the labels and being the most elements zero?"
      ]
    },
    {
      "cell_type": "code",
      "metadata": {
        "colab": {
          "base_uri": "https://localhost:8080/"
        },
        "id": "J04kl9eEf-oM",
        "outputId": "0a1cc6a6-9c2d-43f0-aafc-225ac4e49fd8"
      },
      "source": [
        "y_train_zeros = tf.convert_to_tensor(np.float32(np.zeros(y_train.shape)))\n",
        "y_train = tf.convert_to_tensor(np.float32(y_train))\n",
        "\n",
        "accs = []\n",
        "for i in range(200):\n",
        "  m = tf.keras.metrics.BinaryAccuracy()\n",
        "  m.update_state(y_train_zeros[i], y_train[i])\n",
        "  accs.append(m.result().numpy())\n",
        "  \n",
        "np.mean(accs)"
      ],
      "execution_count": null,
      "outputs": [
        {
          "output_type": "execute_result",
          "data": {
            "text/plain": [
              "0.84684783"
            ]
          },
          "metadata": {
            "tags": []
          },
          "execution_count": 73
        }
      ]
    },
    {
      "cell_type": "markdown",
      "metadata": {
        "id": "beCMe5yrmAFR"
      },
      "source": [
        "We did a little bit better :))"
      ]
    },
    {
      "cell_type": "code",
      "metadata": {
        "id": "lOMZDjpTnRRL"
      },
      "source": [
        "import random\n",
        "TEST_NO = random.randint(0,SAMPLE_SIZE)"
      ],
      "execution_count": null,
      "outputs": []
    },
    {
      "cell_type": "code",
      "metadata": {
        "id": "izHsQMKRntsg",
        "colab": {
          "base_uri": "https://localhost:8080/"
        },
        "outputId": "fb61e5ca-fb2b-48d2-e906-1c7f114b3daa"
      },
      "source": [
        "TEST_NO"
      ],
      "execution_count": null,
      "outputs": [
        {
          "output_type": "execute_result",
          "data": {
            "text/plain": [
              "2157"
            ]
          },
          "metadata": {
            "tags": []
          },
          "execution_count": 113
        }
      ]
    },
    {
      "cell_type": "code",
      "metadata": {
        "colab": {
          "base_uri": "https://localhost:8080/",
          "height": 285
        },
        "id": "FWMIjF_Xmd99",
        "outputId": "1d859a91-4084-4185-9927-b16778351597"
      },
      "source": [
        "img = image.load_img(images_directory+df['ImageName'][TEST_NO], target_size=(SIZE, SIZE, 3))\r\n",
        "img = image.img_to_array(img)\r\n",
        "img = img /255.\r\n",
        "plt.imshow(img)"
      ],
      "execution_count": null,
      "outputs": [
        {
          "output_type": "execute_result",
          "data": {
            "text/plain": [
              "<matplotlib.image.AxesImage at 0x7fbc57480f28>"
            ]
          },
          "metadata": {
            "tags": []
          },
          "execution_count": 114
        },
        {
          "output_type": "display_data",
          "data": {
            "image/png": "[encoded data removed]",
            "text/plain": [
              "<Figure size 432x288 with 1 Axes>"
            ]
          },
          "metadata": {
            "tags": [],
            "needs_background": "light"
          }
        }
      ]
    },
    {
      "cell_type": "code",
      "metadata": {
        "colab": {
          "base_uri": "https://localhost:8080/"
        },
        "id": "mXvVTfQ7nYKa",
        "outputId": "6f35d9d9-5467-4472-e6ba-7d0f83cf3674"
      },
      "source": [
        "img.shape"
      ],
      "execution_count": null,
      "outputs": [
        {
          "output_type": "execute_result",
          "data": {
            "text/plain": [
              "(100, 100, 3)"
            ]
          },
          "metadata": {
            "tags": []
          },
          "execution_count": 115
        }
      ]
    },
    {
      "cell_type": "code",
      "metadata": {
        "id": "s6yB8ZGvoydz"
      },
      "source": [
        "img = np.expand_dims(img, axis=0)"
      ],
      "execution_count": null,
      "outputs": []
    },
    {
      "cell_type": "code",
      "metadata": {
        "colab": {
          "base_uri": "https://localhost:8080/"
        },
        "id": "mRfUlGYhsVrm",
        "outputId": "da841781-9fcb-4258-9a81-412a100ec94a"
      },
      "source": [
        "img.shape"
      ],
      "execution_count": null,
      "outputs": [
        {
          "output_type": "execute_result",
          "data": {
            "text/plain": [
              "(1, 100, 100, 3)"
            ]
          },
          "metadata": {
            "tags": []
          },
          "execution_count": 117
        }
      ]
    },
    {
      "cell_type": "code",
      "metadata": {
        "id": "4U8XQSSKo7Xu"
      },
      "source": [
        "classes = np.array(df.columns[2:])#get array of all classes\r\n",
        "proba = model_concat.predict( [np.array(df['position'][TEST_NO]).reshape(1,16) , img] )#Get probabilities for each class\r\n",
        "sorted_categories = np.argsort(proba[0])[:-11:-1]#Get class names for top 10 classes"
      ],
      "execution_count": null,
      "outputs": []
    },
    {
      "cell_type": "code",
      "metadata": {
        "colab": {
          "base_uri": "https://localhost:8080/"
        },
        "id": "7WYaKuTApgo5",
        "outputId": "ebb6e34c-5a86-4b97-cc87-80e42e391299"
      },
      "source": [
        "#print classes and corresponding probabilities\r\n",
        "for i in range(10):\r\n",
        "    print(\"{}\".format(classes[sorted_categories[i]])+\" ({:.3})\".format(proba[0][sorted_categories[i]]))\r\n"
      ],
      "execution_count": null,
      "outputs": [
        {
          "output_type": "stream",
          "text": [
            "occlusion-Environment (0.993)\n",
            "Clerk (0.927)\n",
            "hs-Hat (0.917)\n",
            "BodyThin (0.759)\n",
            "up-Black (0.725)\n",
            "BodyFat (0.579)\n",
            "lb-Skirt (0.454)\n",
            "low-White (0.451)\n",
            "AgeLess16 (0.434)\n",
            "up-White (0.38)\n"
          ],
          "name": "stdout"
        }
      ]
    },
    {
      "cell_type": "code",
      "metadata": {
        "colab": {
          "base_uri": "https://localhost:8080/"
        },
        "id": "-U_ZlKHeflEk",
        "outputId": "d0a31568-5594-4384-a21b-a5f611f79a4c"
      },
      "source": [
        "import joblib\n",
        "joblib.dump(value=model_concat.weights, filename=f\"weights_pr4-1.pkl\")"
      ],
      "execution_count": null,
      "outputs": [
        {
          "output_type": "execute_result",
          "data": {
            "text/plain": [
              "['weights_pr4-1.pkl']"
            ]
          },
          "metadata": {
            "tags": []
          },
          "execution_count": 74
        }
      ]
    }
  ]
}